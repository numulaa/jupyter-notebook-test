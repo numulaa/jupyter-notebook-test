{
 "cells": [
  {
   "cell_type": "markdown",
   "id": "98a00669",
   "metadata": {},
   "source": [
    "Hello world, this is Nurul, trying to create my first blog with jupyter notebook"
   ]
  },
  {
   "cell_type": "markdown",
   "id": "b2a6edc0",
   "metadata": {},
   "source": [
    "Let's try to run a code. The code below is calculating the factorial of random given number."
   ]
  },
  {
   "cell_type": "code",
   "execution_count": 1,
   "id": "5e4b9ee6",
   "metadata": {},
   "outputs": [],
   "source": [
    "def factorial(n):\n",
    "    \"\"\"\n",
    "    Calculate the factorial of a number.\n",
    "\n",
    "    Parameters:\n",
    "    n (int): The number for which factorial is to be calculated.\n",
    "\n",
    "    Returns:\n",
    "    int: The factorial of the given number.\n",
    "    \"\"\"\n",
    "    if n == 0:\n",
    "        return 1\n",
    "    else:\n",
    "        return n * factorial(n-1)"
   ]
  },
  {
   "cell_type": "code",
   "execution_count": 2,
   "id": "1bf3493c",
   "metadata": {},
   "outputs": [
    {
     "name": "stdout",
     "output_type": "stream",
     "text": [
      "120\n"
     ]
    }
   ],
   "source": [
    "result = factorial(5)\n",
    "print(result)"
   ]
  },
  {
   "cell_type": "markdown",
   "id": "a1d4982f",
   "metadata": {},
   "source": [
    "My goals is actually to give you all the ability to manipulate the code above so you can try input other ways to calculate factorial (yup, All roads lead to Rome :), you can choose your own).\n",
    "\n",
    "But... let me find it out more. Just be patient!"
   ]
  }
 ],
 "metadata": {
  "kernelspec": {
   "display_name": "Python 3 (ipykernel)",
   "language": "python",
   "name": "python3"
  },
  "language_info": {
   "codemirror_mode": {
    "name": "ipython",
    "version": 3
   },
   "file_extension": ".py",
   "mimetype": "text/x-python",
   "name": "python",
   "nbconvert_exporter": "python",
   "pygments_lexer": "ipython3",
   "version": "3.10.9"
  }
 },
 "nbformat": 4,
 "nbformat_minor": 5
}
